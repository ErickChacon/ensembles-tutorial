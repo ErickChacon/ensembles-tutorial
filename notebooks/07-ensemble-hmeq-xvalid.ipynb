{
 "cells": [
  {
   "cell_type": "markdown",
   "metadata": {},
   "source": [
    "# Boosting for Classifier Decision Trees\n",
    "\n",
    "## Goal\n",
    "\n",
    "In this tutorial, we will demonstrate the use of an ensemble method known as *boosting* for\n",
    "*classifier decision trees*. We will study the `HMEQ` dataset available at [https://www.kaggle.com/datasets/ajay1735/hmeq-data](https://www.kaggle.com/datasets/ajay1735/hmeq-data), which contains information about applicants who applied for home equity line of credit. It contains the following variables:\n",
    "\n",
    "## Load libraries and data\n",
    "\n",
    "First, we load the required libraries. We use:\n",
    "\n",
    "- `rpart` package because it contains implementations of decision trees;\n",
    "- `adabag` package because it has implemented the *boosting* algorithm; and\n",
    "- `caret` package to control trina-validation-test data.\n"
   ]
  },
  {
   "cell_type": "code",
   "execution_count": 1,
   "metadata": {},
   "outputs": [
    {
     "name": "stderr",
     "output_type": "stream",
     "text": [
      "Loading required package: caret\n",
      "\n",
      "Loading required package: ggplot2\n",
      "\n",
      "Loading required package: lattice\n",
      "\n",
      "Loading required package: foreach\n",
      "\n",
      "Loading required package: doParallel\n",
      "\n",
      "Loading required package: iterators\n",
      "\n",
      "Loading required package: parallel\n",
      "\n",
      "Warning message in rgl.init(initValue, onlyNULL):\n",
      "“RGL: unable to open X11 display”\n",
      "Warning message:\n",
      "“'rgl.init' failed, will use the null device.\n",
      "See '?rgl.useNULL' for ways to avoid this warning.”\n"
     ]
    }
   ],
   "source": [
    "library(rpart)\n",
    "library(adabag)\n",
    "library(caret)\n"
   ]
  },
  {
   "cell_type": "markdown",
   "metadata": {},
   "source": [
    "To load an `*.csv` file, simply use the function `read.csv()`. In addition, use `factor()`\n",
    "to convert our response variable of interest to `factor`.\n"
   ]
  },
  {
   "cell_type": "code",
   "execution_count": 2,
   "metadata": {},
   "outputs": [
    {
     "data": {
      "text/html": [
       "<table class=\"dataframe\">\n",
       "<caption>A data.frame: 6 × 13</caption>\n",
       "<thead>\n",
       "\t<tr><th></th><th scope=col>BAD</th><th scope=col>LOAN</th><th scope=col>MORTDUE</th><th scope=col>VALUE</th><th scope=col>REASON</th><th scope=col>JOB</th><th scope=col>YOJ</th><th scope=col>DEROG</th><th scope=col>DELINQ</th><th scope=col>CLAGE</th><th scope=col>NINQ</th><th scope=col>CLNO</th><th scope=col>DEBTINC</th></tr>\n",
       "\t<tr><th></th><th scope=col>&lt;fct&gt;</th><th scope=col>&lt;int&gt;</th><th scope=col>&lt;dbl&gt;</th><th scope=col>&lt;dbl&gt;</th><th scope=col>&lt;chr&gt;</th><th scope=col>&lt;chr&gt;</th><th scope=col>&lt;dbl&gt;</th><th scope=col>&lt;int&gt;</th><th scope=col>&lt;int&gt;</th><th scope=col>&lt;dbl&gt;</th><th scope=col>&lt;int&gt;</th><th scope=col>&lt;int&gt;</th><th scope=col>&lt;dbl&gt;</th></tr>\n",
       "</thead>\n",
       "<tbody>\n",
       "\t<tr><th scope=row>1</th><td>1</td><td>1100</td><td>25860</td><td> 39025</td><td>HomeImp</td><td>Other </td><td>10.5</td><td> 0</td><td> 0</td><td> 94.36667</td><td> 1</td><td> 9</td><td>      NA</td></tr>\n",
       "\t<tr><th scope=row>2</th><td>1</td><td>1300</td><td>70053</td><td> 68400</td><td>HomeImp</td><td>Other </td><td> 7.0</td><td> 0</td><td> 2</td><td>121.83333</td><td> 0</td><td>14</td><td>      NA</td></tr>\n",
       "\t<tr><th scope=row>3</th><td>1</td><td>1500</td><td>13500</td><td> 16700</td><td>HomeImp</td><td>Other </td><td> 4.0</td><td> 0</td><td> 0</td><td>149.46667</td><td> 1</td><td>10</td><td>      NA</td></tr>\n",
       "\t<tr><th scope=row>4</th><td>1</td><td>1500</td><td>   NA</td><td>    NA</td><td>       </td><td>      </td><td>  NA</td><td>NA</td><td>NA</td><td>       NA</td><td>NA</td><td>NA</td><td>      NA</td></tr>\n",
       "\t<tr><th scope=row>5</th><td>0</td><td>1700</td><td>97800</td><td>112000</td><td>HomeImp</td><td>Office</td><td> 3.0</td><td> 0</td><td> 0</td><td> 93.33333</td><td> 0</td><td>14</td><td>      NA</td></tr>\n",
       "\t<tr><th scope=row>6</th><td>1</td><td>1700</td><td>30548</td><td> 40320</td><td>HomeImp</td><td>Other </td><td> 9.0</td><td> 0</td><td> 0</td><td>101.46600</td><td> 1</td><td> 8</td><td>37.11361</td></tr>\n",
       "</tbody>\n",
       "</table>\n"
      ],
      "text/latex": [
       "A data.frame: 6 × 13\n",
       "\\begin{tabular}{r|lllllllllllll}\n",
       "  & BAD & LOAN & MORTDUE & VALUE & REASON & JOB & YOJ & DEROG & DELINQ & CLAGE & NINQ & CLNO & DEBTINC\\\\\n",
       "  & <fct> & <int> & <dbl> & <dbl> & <chr> & <chr> & <dbl> & <int> & <int> & <dbl> & <int> & <int> & <dbl>\\\\\n",
       "\\hline\n",
       "\t1 & 1 & 1100 & 25860 &  39025 & HomeImp & Other  & 10.5 &  0 &  0 &  94.36667 &  1 &  9 &       NA\\\\\n",
       "\t2 & 1 & 1300 & 70053 &  68400 & HomeImp & Other  &  7.0 &  0 &  2 & 121.83333 &  0 & 14 &       NA\\\\\n",
       "\t3 & 1 & 1500 & 13500 &  16700 & HomeImp & Other  &  4.0 &  0 &  0 & 149.46667 &  1 & 10 &       NA\\\\\n",
       "\t4 & 1 & 1500 &    NA &     NA &         &        &   NA & NA & NA &        NA & NA & NA &       NA\\\\\n",
       "\t5 & 0 & 1700 & 97800 & 112000 & HomeImp & Office &  3.0 &  0 &  0 &  93.33333 &  0 & 14 &       NA\\\\\n",
       "\t6 & 1 & 1700 & 30548 &  40320 & HomeImp & Other  &  9.0 &  0 &  0 & 101.46600 &  1 &  8 & 37.11361\\\\\n",
       "\\end{tabular}\n"
      ],
      "text/markdown": [
       "\n",
       "A data.frame: 6 × 13\n",
       "\n",
       "| <!--/--> | BAD &lt;fct&gt; | LOAN &lt;int&gt; | MORTDUE &lt;dbl&gt; | VALUE &lt;dbl&gt; | REASON &lt;chr&gt; | JOB &lt;chr&gt; | YOJ &lt;dbl&gt; | DEROG &lt;int&gt; | DELINQ &lt;int&gt; | CLAGE &lt;dbl&gt; | NINQ &lt;int&gt; | CLNO &lt;int&gt; | DEBTINC &lt;dbl&gt; |\n",
       "|---|---|---|---|---|---|---|---|---|---|---|---|---|---|\n",
       "| 1 | 1 | 1100 | 25860 |  39025 | HomeImp | Other  | 10.5 |  0 |  0 |  94.36667 |  1 |  9 |       NA |\n",
       "| 2 | 1 | 1300 | 70053 |  68400 | HomeImp | Other  |  7.0 |  0 |  2 | 121.83333 |  0 | 14 |       NA |\n",
       "| 3 | 1 | 1500 | 13500 |  16700 | HomeImp | Other  |  4.0 |  0 |  0 | 149.46667 |  1 | 10 |       NA |\n",
       "| 4 | 1 | 1500 |    NA |     NA | <!----> | <!----> |   NA | NA | NA |        NA | NA | NA |       NA |\n",
       "| 5 | 0 | 1700 | 97800 | 112000 | HomeImp | Office |  3.0 |  0 |  0 |  93.33333 |  0 | 14 |       NA |\n",
       "| 6 | 1 | 1700 | 30548 |  40320 | HomeImp | Other  |  9.0 |  0 |  0 | 101.46600 |  1 |  8 | 37.11361 |\n",
       "\n"
      ],
      "text/plain": [
       "  BAD LOAN MORTDUE VALUE  REASON  JOB    YOJ  DEROG DELINQ CLAGE     NINQ CLNO\n",
       "1 1   1100 25860    39025 HomeImp Other  10.5  0     0      94.36667  1    9  \n",
       "2 1   1300 70053    68400 HomeImp Other   7.0  0     2     121.83333  0   14  \n",
       "3 1   1500 13500    16700 HomeImp Other   4.0  0     0     149.46667  1   10  \n",
       "4 1   1500    NA       NA                  NA NA    NA            NA NA   NA  \n",
       "5 0   1700 97800   112000 HomeImp Office  3.0  0     0      93.33333  0   14  \n",
       "6 1   1700 30548    40320 HomeImp Other   9.0  0     0     101.46600  1    8  \n",
       "  DEBTINC \n",
       "1       NA\n",
       "2       NA\n",
       "3       NA\n",
       "4       NA\n",
       "5       NA\n",
       "6 37.11361"
      ]
     },
     "metadata": {},
     "output_type": "display_data"
    }
   ],
   "source": [
    "hmeq <- read.csv(file.path(\"data\", \"hmeq.csv\"), header = TRUE)\n",
    "hmeq$BAD <- factor(hmeq$BAD)\n",
    "head(hmeq)\n"
   ]
  },
  {
   "cell_type": "markdown",
   "metadata": {},
   "source": [
    "## Create train-test split\n",
    "\n"
   ]
  },
  {
   "cell_type": "code",
   "execution_count": 3,
   "metadata": {},
   "outputs": [],
   "source": [
    "set.seed(12345)\n",
    "train_idx <- createDataPartition(hmeq$BAD, p = 0.7, list = FALSE)\n",
    "train_data <- hmeq[train_idx, ]\n",
    "test_data  <- hmeq[-train_idx, ]\n"
   ]
  },
  {
   "cell_type": "markdown",
   "metadata": {},
   "source": [
    "\n"
   ]
  },
  {
   "cell_type": "code",
   "execution_count": 4,
   "metadata": {},
   "outputs": [
    {
     "data": {
      "text/html": [
       "<table class=\"dataframe\">\n",
       "<caption>A data.frame: 6 × 13</caption>\n",
       "<thead>\n",
       "\t<tr><th></th><th scope=col>BAD</th><th scope=col>LOAN</th><th scope=col>MORTDUE</th><th scope=col>VALUE</th><th scope=col>REASON</th><th scope=col>JOB</th><th scope=col>YOJ</th><th scope=col>DEROG</th><th scope=col>DELINQ</th><th scope=col>CLAGE</th><th scope=col>NINQ</th><th scope=col>CLNO</th><th scope=col>DEBTINC</th></tr>\n",
       "\t<tr><th></th><th scope=col>&lt;fct&gt;</th><th scope=col>&lt;int&gt;</th><th scope=col>&lt;dbl&gt;</th><th scope=col>&lt;dbl&gt;</th><th scope=col>&lt;chr&gt;</th><th scope=col>&lt;chr&gt;</th><th scope=col>&lt;dbl&gt;</th><th scope=col>&lt;int&gt;</th><th scope=col>&lt;int&gt;</th><th scope=col>&lt;dbl&gt;</th><th scope=col>&lt;int&gt;</th><th scope=col>&lt;int&gt;</th><th scope=col>&lt;dbl&gt;</th></tr>\n",
       "</thead>\n",
       "<tbody>\n",
       "\t<tr><th scope=row>2</th><td>1</td><td>1300</td><td>70053</td><td> 68400</td><td>HomeImp</td><td>Other </td><td> 7</td><td>0</td><td>2</td><td>121.83333</td><td>0</td><td>14</td><td>      NA</td></tr>\n",
       "\t<tr><th scope=row>3</th><td>1</td><td>1500</td><td>13500</td><td> 16700</td><td>HomeImp</td><td>Other </td><td> 4</td><td>0</td><td>0</td><td>149.46667</td><td>1</td><td>10</td><td>      NA</td></tr>\n",
       "\t<tr><th scope=row>5</th><td>0</td><td>1700</td><td>97800</td><td>112000</td><td>HomeImp</td><td>Office</td><td> 3</td><td>0</td><td>0</td><td> 93.33333</td><td>0</td><td>14</td><td>      NA</td></tr>\n",
       "\t<tr><th scope=row>7</th><td>1</td><td>1800</td><td>48649</td><td> 57037</td><td>HomeImp</td><td>Other </td><td> 5</td><td>3</td><td>2</td><td> 77.10000</td><td>1</td><td>17</td><td>      NA</td></tr>\n",
       "\t<tr><th scope=row>8</th><td>1</td><td>1800</td><td>28502</td><td> 43034</td><td>HomeImp</td><td>Other </td><td>11</td><td>0</td><td>0</td><td> 88.76603</td><td>0</td><td> 8</td><td>36.88489</td></tr>\n",
       "\t<tr><th scope=row>9</th><td>1</td><td>2000</td><td>32700</td><td> 46740</td><td>HomeImp</td><td>Other </td><td> 3</td><td>0</td><td>2</td><td>216.93333</td><td>1</td><td>12</td><td>      NA</td></tr>\n",
       "</tbody>\n",
       "</table>\n"
      ],
      "text/latex": [
       "A data.frame: 6 × 13\n",
       "\\begin{tabular}{r|lllllllllllll}\n",
       "  & BAD & LOAN & MORTDUE & VALUE & REASON & JOB & YOJ & DEROG & DELINQ & CLAGE & NINQ & CLNO & DEBTINC\\\\\n",
       "  & <fct> & <int> & <dbl> & <dbl> & <chr> & <chr> & <dbl> & <int> & <int> & <dbl> & <int> & <int> & <dbl>\\\\\n",
       "\\hline\n",
       "\t2 & 1 & 1300 & 70053 &  68400 & HomeImp & Other  &  7 & 0 & 2 & 121.83333 & 0 & 14 &       NA\\\\\n",
       "\t3 & 1 & 1500 & 13500 &  16700 & HomeImp & Other  &  4 & 0 & 0 & 149.46667 & 1 & 10 &       NA\\\\\n",
       "\t5 & 0 & 1700 & 97800 & 112000 & HomeImp & Office &  3 & 0 & 0 &  93.33333 & 0 & 14 &       NA\\\\\n",
       "\t7 & 1 & 1800 & 48649 &  57037 & HomeImp & Other  &  5 & 3 & 2 &  77.10000 & 1 & 17 &       NA\\\\\n",
       "\t8 & 1 & 1800 & 28502 &  43034 & HomeImp & Other  & 11 & 0 & 0 &  88.76603 & 0 &  8 & 36.88489\\\\\n",
       "\t9 & 1 & 2000 & 32700 &  46740 & HomeImp & Other  &  3 & 0 & 2 & 216.93333 & 1 & 12 &       NA\\\\\n",
       "\\end{tabular}\n"
      ],
      "text/markdown": [
       "\n",
       "A data.frame: 6 × 13\n",
       "\n",
       "| <!--/--> | BAD &lt;fct&gt; | LOAN &lt;int&gt; | MORTDUE &lt;dbl&gt; | VALUE &lt;dbl&gt; | REASON &lt;chr&gt; | JOB &lt;chr&gt; | YOJ &lt;dbl&gt; | DEROG &lt;int&gt; | DELINQ &lt;int&gt; | CLAGE &lt;dbl&gt; | NINQ &lt;int&gt; | CLNO &lt;int&gt; | DEBTINC &lt;dbl&gt; |\n",
       "|---|---|---|---|---|---|---|---|---|---|---|---|---|---|\n",
       "| 2 | 1 | 1300 | 70053 |  68400 | HomeImp | Other  |  7 | 0 | 2 | 121.83333 | 0 | 14 |       NA |\n",
       "| 3 | 1 | 1500 | 13500 |  16700 | HomeImp | Other  |  4 | 0 | 0 | 149.46667 | 1 | 10 |       NA |\n",
       "| 5 | 0 | 1700 | 97800 | 112000 | HomeImp | Office |  3 | 0 | 0 |  93.33333 | 0 | 14 |       NA |\n",
       "| 7 | 1 | 1800 | 48649 |  57037 | HomeImp | Other  |  5 | 3 | 2 |  77.10000 | 1 | 17 |       NA |\n",
       "| 8 | 1 | 1800 | 28502 |  43034 | HomeImp | Other  | 11 | 0 | 0 |  88.76603 | 0 |  8 | 36.88489 |\n",
       "| 9 | 1 | 2000 | 32700 |  46740 | HomeImp | Other  |  3 | 0 | 2 | 216.93333 | 1 | 12 |       NA |\n",
       "\n"
      ],
      "text/plain": [
       "  BAD LOAN MORTDUE VALUE  REASON  JOB    YOJ DEROG DELINQ CLAGE     NINQ CLNO\n",
       "2 1   1300 70053    68400 HomeImp Other   7  0     2      121.83333 0    14  \n",
       "3 1   1500 13500    16700 HomeImp Other   4  0     0      149.46667 1    10  \n",
       "5 0   1700 97800   112000 HomeImp Office  3  0     0       93.33333 0    14  \n",
       "7 1   1800 48649    57037 HomeImp Other   5  3     2       77.10000 1    17  \n",
       "8 1   1800 28502    43034 HomeImp Other  11  0     0       88.76603 0     8  \n",
       "9 1   2000 32700    46740 HomeImp Other   3  0     2      216.93333 1    12  \n",
       "  DEBTINC \n",
       "2       NA\n",
       "3       NA\n",
       "5       NA\n",
       "7       NA\n",
       "8 36.88489\n",
       "9       NA"
      ]
     },
     "metadata": {},
     "output_type": "display_data"
    }
   ],
   "source": [
    "head(train_data)\n",
    "\n"
   ]
  },
  {
   "cell_type": "markdown",
   "metadata": {},
   "source": [
    "\n"
   ]
  },
  {
   "cell_type": "code",
   "execution_count": 5,
   "metadata": {},
   "outputs": [
    {
     "data": {
      "text/html": [
       "<table class=\"dataframe\">\n",
       "<caption>A data.frame: 6 × 13</caption>\n",
       "<thead>\n",
       "\t<tr><th></th><th scope=col>BAD</th><th scope=col>LOAN</th><th scope=col>MORTDUE</th><th scope=col>VALUE</th><th scope=col>REASON</th><th scope=col>JOB</th><th scope=col>YOJ</th><th scope=col>DEROG</th><th scope=col>DELINQ</th><th scope=col>CLAGE</th><th scope=col>NINQ</th><th scope=col>CLNO</th><th scope=col>DEBTINC</th></tr>\n",
       "\t<tr><th></th><th scope=col>&lt;fct&gt;</th><th scope=col>&lt;int&gt;</th><th scope=col>&lt;dbl&gt;</th><th scope=col>&lt;dbl&gt;</th><th scope=col>&lt;chr&gt;</th><th scope=col>&lt;chr&gt;</th><th scope=col>&lt;dbl&gt;</th><th scope=col>&lt;int&gt;</th><th scope=col>&lt;int&gt;</th><th scope=col>&lt;dbl&gt;</th><th scope=col>&lt;int&gt;</th><th scope=col>&lt;int&gt;</th><th scope=col>&lt;dbl&gt;</th></tr>\n",
       "</thead>\n",
       "<tbody>\n",
       "\t<tr><th scope=row>1</th><td>1</td><td>1100</td><td>25860</td><td>39025</td><td>HomeImp</td><td>Other </td><td>10.5</td><td> 0</td><td> 0</td><td> 94.36667</td><td> 1</td><td> 9</td><td>      NA</td></tr>\n",
       "\t<tr><th scope=row>4</th><td>1</td><td>1500</td><td>   NA</td><td>   NA</td><td>       </td><td>      </td><td>  NA</td><td>NA</td><td>NA</td><td>       NA</td><td>NA</td><td>NA</td><td>      NA</td></tr>\n",
       "\t<tr><th scope=row>6</th><td>1</td><td>1700</td><td>30548</td><td>40320</td><td>HomeImp</td><td>Other </td><td> 9.0</td><td> 0</td><td> 0</td><td>101.46600</td><td> 1</td><td> 8</td><td>37.11361</td></tr>\n",
       "\t<tr><th scope=row>10</th><td>1</td><td>2000</td><td>   NA</td><td>62250</td><td>HomeImp</td><td>Sales </td><td>16.0</td><td> 0</td><td> 0</td><td>115.80000</td><td> 0</td><td>13</td><td>      NA</td></tr>\n",
       "\t<tr><th scope=row>12</th><td>1</td><td>2000</td><td>20627</td><td>29800</td><td>HomeImp</td><td>Office</td><td>11.0</td><td> 0</td><td> 1</td><td>122.53333</td><td> 1</td><td> 9</td><td>      NA</td></tr>\n",
       "\t<tr><th scope=row>14</th><td>0</td><td>2000</td><td>64536</td><td>87400</td><td>       </td><td>Mgr   </td><td> 2.5</td><td> 0</td><td> 0</td><td>147.13333</td><td> 0</td><td>24</td><td>      NA</td></tr>\n",
       "</tbody>\n",
       "</table>\n"
      ],
      "text/latex": [
       "A data.frame: 6 × 13\n",
       "\\begin{tabular}{r|lllllllllllll}\n",
       "  & BAD & LOAN & MORTDUE & VALUE & REASON & JOB & YOJ & DEROG & DELINQ & CLAGE & NINQ & CLNO & DEBTINC\\\\\n",
       "  & <fct> & <int> & <dbl> & <dbl> & <chr> & <chr> & <dbl> & <int> & <int> & <dbl> & <int> & <int> & <dbl>\\\\\n",
       "\\hline\n",
       "\t1 & 1 & 1100 & 25860 & 39025 & HomeImp & Other  & 10.5 &  0 &  0 &  94.36667 &  1 &  9 &       NA\\\\\n",
       "\t4 & 1 & 1500 &    NA &    NA &         &        &   NA & NA & NA &        NA & NA & NA &       NA\\\\\n",
       "\t6 & 1 & 1700 & 30548 & 40320 & HomeImp & Other  &  9.0 &  0 &  0 & 101.46600 &  1 &  8 & 37.11361\\\\\n",
       "\t10 & 1 & 2000 &    NA & 62250 & HomeImp & Sales  & 16.0 &  0 &  0 & 115.80000 &  0 & 13 &       NA\\\\\n",
       "\t12 & 1 & 2000 & 20627 & 29800 & HomeImp & Office & 11.0 &  0 &  1 & 122.53333 &  1 &  9 &       NA\\\\\n",
       "\t14 & 0 & 2000 & 64536 & 87400 &         & Mgr    &  2.5 &  0 &  0 & 147.13333 &  0 & 24 &       NA\\\\\n",
       "\\end{tabular}\n"
      ],
      "text/markdown": [
       "\n",
       "A data.frame: 6 × 13\n",
       "\n",
       "| <!--/--> | BAD &lt;fct&gt; | LOAN &lt;int&gt; | MORTDUE &lt;dbl&gt; | VALUE &lt;dbl&gt; | REASON &lt;chr&gt; | JOB &lt;chr&gt; | YOJ &lt;dbl&gt; | DEROG &lt;int&gt; | DELINQ &lt;int&gt; | CLAGE &lt;dbl&gt; | NINQ &lt;int&gt; | CLNO &lt;int&gt; | DEBTINC &lt;dbl&gt; |\n",
       "|---|---|---|---|---|---|---|---|---|---|---|---|---|---|\n",
       "| 1 | 1 | 1100 | 25860 | 39025 | HomeImp | Other  | 10.5 |  0 |  0 |  94.36667 |  1 |  9 |       NA |\n",
       "| 4 | 1 | 1500 |    NA |    NA | <!----> | <!----> |   NA | NA | NA |        NA | NA | NA |       NA |\n",
       "| 6 | 1 | 1700 | 30548 | 40320 | HomeImp | Other  |  9.0 |  0 |  0 | 101.46600 |  1 |  8 | 37.11361 |\n",
       "| 10 | 1 | 2000 |    NA | 62250 | HomeImp | Sales  | 16.0 |  0 |  0 | 115.80000 |  0 | 13 |       NA |\n",
       "| 12 | 1 | 2000 | 20627 | 29800 | HomeImp | Office | 11.0 |  0 |  1 | 122.53333 |  1 |  9 |       NA |\n",
       "| 14 | 0 | 2000 | 64536 | 87400 | <!----> | Mgr    |  2.5 |  0 |  0 | 147.13333 |  0 | 24 |       NA |\n",
       "\n"
      ],
      "text/plain": [
       "   BAD LOAN MORTDUE VALUE REASON  JOB    YOJ  DEROG DELINQ CLAGE     NINQ CLNO\n",
       "1  1   1100 25860   39025 HomeImp Other  10.5  0     0      94.36667  1    9  \n",
       "4  1   1500    NA      NA                  NA NA    NA            NA NA   NA  \n",
       "6  1   1700 30548   40320 HomeImp Other   9.0  0     0     101.46600  1    8  \n",
       "10 1   2000    NA   62250 HomeImp Sales  16.0  0     0     115.80000  0   13  \n",
       "12 1   2000 20627   29800 HomeImp Office 11.0  0     1     122.53333  1    9  \n",
       "14 0   2000 64536   87400         Mgr     2.5  0     0     147.13333  0   24  \n",
       "   DEBTINC \n",
       "1        NA\n",
       "4        NA\n",
       "6  37.11361\n",
       "10       NA\n",
       "12       NA\n",
       "14       NA"
      ]
     },
     "metadata": {},
     "output_type": "display_data"
    }
   ],
   "source": [
    "head(test_data)\n",
    "\n"
   ]
  },
  {
   "cell_type": "markdown",
   "metadata": {},
   "source": [
    "## Perform cross-validation to compare models\n",
    "\n",
    "Let's split the train data into ten groups:\n"
   ]
  },
  {
   "cell_type": "code",
   "execution_count": 6,
   "metadata": {},
   "outputs": [
    {
     "name": "stdout",
     "output_type": "stream",
     "text": [
      "List of 10\n",
      " $ Fold01: int [1:417] 32 41 54 68 80 85 94 130 145 146 ...\n",
      " $ Fold02: int [1:417] 1 24 34 35 43 52 61 93 98 101 ...\n",
      " $ Fold03: int [1:417] 17 22 26 37 82 88 105 108 117 121 ...\n",
      " $ Fold04: int [1:418] 6 7 8 9 11 12 20 49 50 56 ...\n",
      " $ Fold05: int [1:418] 2 4 21 29 31 46 48 63 81 99 ...\n",
      " $ Fold06: int [1:417] 14 16 23 42 44 59 66 77 100 112 ...\n",
      " $ Fold07: int [1:417] 13 25 38 51 53 57 58 69 70 74 ...\n",
      " $ Fold08: int [1:417] 10 15 18 30 36 45 47 55 60 64 ...\n",
      " $ Fold09: int [1:418] 5 19 27 28 65 67 72 75 97 103 ...\n",
      " $ Fold10: int [1:417] 3 33 39 40 71 76 91 95 115 141 ...\n"
     ]
    }
   ],
   "source": [
    "folds <- createFolds(train_data$BAD, k = 10, list = TRUE)\n",
    "str(folds)\n"
   ]
  },
  {
   "cell_type": "markdown",
   "metadata": {},
   "source": [
    "Evaluate the performance of the models using 10-fold cross-validation:\n",
    "\n"
   ]
  },
  {
   "cell_type": "code",
   "execution_count": 7,
   "metadata": {},
   "outputs": [],
   "source": [
    "tree_errors <- numeric(length(folds))\n",
    "boost_errors <- numeric(length(folds))\n",
    "\n",
    "for (i in seq_along(folds)) {\n",
    "  val_idx <- folds[[i]]\n",
    "  train_fold <- train_data[-val_idx, ]\n",
    "  valid_fold <- train_data[val_idx, ]\n",
    "\n",
    "  # Decision tree\n",
    "  tree_fit <- rpart(BAD ~ ., data = train_fold, method = \"class\")\n",
    "  tree_pred <- predict(tree_fit, valid_fold, type = \"class\")\n",
    "  tree_cm <- table(Pred = tree_pred, Obs = valid_fold$BAD)\n",
    "  tree_errors[i] <- 1 - sum(diag(tree_cm))/sum(tree_cm)\n",
    "\n",
    "  # Boosting\n",
    "  boost_fit <- boosting(BAD ~ ., data = train_fold, mfinal = 100,\n",
    "                        control = rpart.control(minsplit = 5, cp = -1, maxdepth = 4))\n",
    "  boost_pred <- predict(boost_fit, valid_fold)\n",
    "  boost_cm <- table(Pred = boost_pred$class, Obs = valid_fold$BAD)\n",
    "  boost_errors[i] <- 1 - sum(diag(boost_cm))/sum(boost_cm)\n",
    "}\n"
   ]
  },
  {
   "cell_type": "markdown",
   "metadata": {},
   "source": [
    "Errors for the decision tree model:\n",
    "\n"
   ]
  },
  {
   "cell_type": "code",
   "execution_count": 8,
   "metadata": {},
   "outputs": [
    {
     "name": "stdout",
     "output_type": "stream",
     "text": [
      " [1] 0.1438849 0.1630695 0.1678657 0.1698565 0.1387560 0.1558753 0.1678657\n",
      " [8] 0.1486811 0.1674641 0.1486811\n"
     ]
    }
   ],
   "source": [
    "print(tree_errors)\n",
    "\n"
   ]
  },
  {
   "cell_type": "markdown",
   "metadata": {},
   "source": [
    "Errors for boosting model:\n",
    "\n"
   ]
  },
  {
   "cell_type": "code",
   "execution_count": 9,
   "metadata": {},
   "outputs": [
    {
     "name": "stdout",
     "output_type": "stream",
     "text": [
      " [1] 0.13189448 0.10791367 0.13669065 0.12440191 0.10765550 0.12949640\n",
      " [7] 0.09832134 0.12709832 0.14354067 0.12949640\n"
     ]
    }
   ],
   "source": [
    "print(boost_errors)\n",
    "\n"
   ]
  },
  {
   "cell_type": "markdown",
   "metadata": {},
   "source": [
    "Compare the mean error:\n",
    "\n"
   ]
  },
  {
   "cell_type": "code",
   "execution_count": 10,
   "metadata": {},
   "outputs": [
    {
     "data": {
      "text/html": [
       "<style>\n",
       ".dl-inline {width: auto; margin:0; padding: 0}\n",
       ".dl-inline>dt, .dl-inline>dd {float: none; width: auto; display: inline-block}\n",
       ".dl-inline>dt::after {content: \":\\0020\"; padding-right: .5ex}\n",
       ".dl-inline>dt:not(:first-of-type) {padding-left: .5ex}\n",
       "</style><dl class=dl-inline><dt>tree</dt><dd>0.157199981641481</dd><dt>boost</dt><dd>0.123650935710762</dd></dl>\n"
      ],
      "text/latex": [
       "\\begin{description*}\n",
       "\\item[tree] 0.157199981641481\n",
       "\\item[boost] 0.123650935710762\n",
       "\\end{description*}\n"
      ],
      "text/markdown": [
       "tree\n",
       ":   0.157199981641481boost\n",
       ":   0.123650935710762\n",
       "\n"
      ],
      "text/plain": [
       "     tree     boost \n",
       "0.1572000 0.1236509 "
      ]
     },
     "metadata": {},
     "output_type": "display_data"
    }
   ],
   "source": [
    "c(tree = mean(tree_errors), boost = mean(boost_errors))\n",
    "\n"
   ]
  },
  {
   "cell_type": "markdown",
   "metadata": {},
   "source": [
    "## Evaluate the performance of the best model in the test data\n",
    "\n",
    "Finally, we will evaluate the performance of our model in the test data.\n"
   ]
  },
  {
   "cell_type": "code",
   "execution_count": 11,
   "metadata": {},
   "outputs": [],
   "source": [
    "final_boost <- boosting(BAD ~ ., data = train_data, mfinal = 100,\n",
    "                        control = rpart.control(minsplit = 5, cp = -1, maxdepth = 4))\n",
    "final_pred <- predict(final_boost, test_data)\n",
    "final_cm <- table(Pred = final_pred$class, Obs = test_data$BAD)\n"
   ]
  },
  {
   "cell_type": "markdown",
   "metadata": {},
   "source": [
    "Let's compute the error:\n",
    "\n"
   ]
  },
  {
   "cell_type": "code",
   "execution_count": 12,
   "metadata": {},
   "outputs": [
    {
     "data": {
      "text/html": [
       "0.113038612199217"
      ],
      "text/latex": [
       "0.113038612199217"
      ],
      "text/markdown": [
       "0.113038612199217"
      ],
      "text/plain": [
       "[1] 0.1130386"
      ]
     },
     "metadata": {},
     "output_type": "display_data"
    }
   ],
   "source": [
    "test_error <- 1 - sum(diag(final_cm))/sum(final_cm)\n",
    "test_error\n"
   ]
  }
 ],
 "metadata": {
  "anaconda-cloud": "",
  "kernelspec": {
   "display_name": "R",
   "language": "R",
   "name": "ir"
  },
  "language_info": {
   "codemirror_mode": "r",
   "file_extension": ".r",
   "mimetype": "text/x-r-source",
   "name": "R",
   "pygments_lexer": "r",
   "version": "4.5.1"
  }
 },
 "nbformat": 4,
 "nbformat_minor": 4
}
