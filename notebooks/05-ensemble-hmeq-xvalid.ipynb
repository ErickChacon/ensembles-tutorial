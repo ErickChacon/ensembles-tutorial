{
    "cells": [
        {
            "cell_type": "markdown",
            "metadata": {},
            "source": [
                "# Boosting for Classifier Decision Trees\n",
                "\n",
                "## Goal\n",
                "\n",
                "In this tutorial, we will demonstrate the use of an ensemble method known as *boosting* for\n",
                "*classifier decision trees*. We will study the `HMEQ` dataset available at [https://www.kaggle.com/datasets/ajay1735/hmeq-data](https://www.kaggle.com/datasets/ajay1735/hmeq-data), which contains information about applicants who applied for home equity line of credit. It contains the following variables:\n",
                "\n",
                "## Load libraries and data\n",
                "\n",
                "First, we load the required libraries. We use:\n",
                "\n",
                "- `rpart` package because it contains implementations of decision trees;\n",
                "- `adabag` package because it has implemented the *boosting* algorithm; and\n",
                "- `caret` package to control trina-validation-test data.\n"
            ]
        },
        {
            "cell_type": "code",
            "execution_count": null,
            "metadata": {},
            "outputs": [],
            "source": [
                "library(rpart)\n",
                "library(adabag)\n",
                "library(caret)\n"
            ]
        },
        {
            "cell_type": "markdown",
            "metadata": {},
            "source": [
                "To load an `*.csv` file, simply use the function `read.csv()`. In addition, use `factor()`\n",
                "to convert our response variable of interest to `factor`.\n"
            ]
        },
        {
            "cell_type": "code",
            "execution_count": null,
            "metadata": {},
            "outputs": [],
            "source": [
                "hmeq <- read.csv(file.path(\"data\", \"hmeq.csv\"), header = TRUE)\n",
                "hmeq$BAD <- factor(hmeq$BAD)\n",
                "head(hmeq)\n"
            ]
        },
        {
            "cell_type": "markdown",
            "metadata": {},
            "source": [
                "## Create train-test split\n",
                "\n"
            ]
        },
        {
            "cell_type": "code",
            "execution_count": null,
            "metadata": {},
            "outputs": [],
            "source": [
                "set.seed(12345)\n",
                "train_idx <- createDataPartition(hmeq$BAD, p = 0.7, list = FALSE)\n",
                "train_data <- hmeq[train_idx, ]\n",
                "test_data  <- hmeq[-train_idx, ]\n"
            ]
        },
        {
            "cell_type": "markdown",
            "metadata": {},
            "source": "\n"
        },
        {
            "cell_type": "code",
            "execution_count": null,
            "metadata": {},
            "outputs": [],
            "source": [
                "head(train_data)\n",
                "\n"
            ]
        },
        {
            "cell_type": "markdown",
            "metadata": {},
            "source": "\n"
        },
        {
            "cell_type": "code",
            "execution_count": null,
            "metadata": {},
            "outputs": [],
            "source": [
                "head(test_data)\n",
                "\n"
            ]
        },
        {
            "cell_type": "markdown",
            "metadata": {},
            "source": [
                "## Perform cross-validation to compare models\n",
                "\n",
                "Let's split the train data into ten groups:\n"
            ]
        },
        {
            "cell_type": "code",
            "execution_count": null,
            "metadata": {},
            "outputs": [],
            "source": [
                "folds <- createFolds(train_data$BAD, k = 10, list = TRUE)\n",
                "str(folds)\n"
            ]
        },
        {
            "cell_type": "markdown",
            "metadata": {},
            "source": [
                "Evaluate the performance of the models using 10-fold cross-validation:\n",
                "\n"
            ]
        },
        {
            "cell_type": "code",
            "execution_count": null,
            "metadata": {},
            "outputs": [],
            "source": [
                "tree_errors <- numeric(length(folds))\n",
                "boost_errors <- numeric(length(folds))\n",
                "\n",
                "for (i in seq_along(folds)) {\n",
                "  val_idx <- folds[[i]]\n",
                "  train_fold <- train_data[-val_idx, ]\n",
                "  valid_fold <- train_data[val_idx, ]\n",
                "\n",
                "  # Decision tree\n",
                "  tree_fit <- rpart(BAD ~ ., data = train_fold, method = \"class\")\n",
                "  tree_pred <- predict(tree_fit, valid_fold, type = \"class\")\n",
                "  tree_cm <- table(Pred = tree_pred, Obs = valid_fold$BAD)\n",
                "  tree_errors[i] <- 1 - sum(diag(tree_cm))/sum(tree_cm)\n",
                "\n",
                "  # Boosting\n",
                "  boost_fit <- boosting(BAD ~ ., data = train_fold, mfinal = 100,\n",
                "                        control = rpart.control(minsplit = 5, cp = -1, maxdepth = 4))\n",
                "  boost_pred <- predict(boost_fit, valid_fold)\n",
                "  boost_cm <- table(Pred = boost_pred$class, Obs = valid_fold$BAD)\n",
                "  boost_errors[i] <- 1 - sum(diag(boost_cm))/sum(boost_cm)\n",
                "}\n"
            ]
        },
        {
            "cell_type": "markdown",
            "metadata": {},
            "source": [
                "Errors for the decision tree model:\n",
                "\n"
            ]
        },
        {
            "cell_type": "code",
            "execution_count": null,
            "metadata": {},
            "outputs": [],
            "source": [
                "print(tree_errors)\n",
                "\n"
            ]
        },
        {
            "cell_type": "markdown",
            "metadata": {},
            "source": [
                "Errors for boosting model:\n",
                "\n"
            ]
        },
        {
            "cell_type": "code",
            "execution_count": null,
            "metadata": {},
            "outputs": [],
            "source": [
                "print(boost_errors)\n",
                "\n"
            ]
        },
        {
            "cell_type": "markdown",
            "metadata": {},
            "source": [
                "Compare the mean error:\n",
                "\n"
            ]
        },
        {
            "cell_type": "code",
            "execution_count": null,
            "metadata": {},
            "outputs": [],
            "source": [
                "c(tree = mean(tree_errors), boost = mean(boost_errors))\n",
                "\n"
            ]
        },
        {
            "cell_type": "markdown",
            "metadata": {},
            "source": [
                "## Evaluate the performance of the best model in the test data\n",
                "\n",
                "Finally, we will evaluate the performance of our model in the test data.\n"
            ]
        },
        {
            "cell_type": "code",
            "execution_count": null,
            "metadata": {},
            "outputs": [],
            "source": [
                "final_boost <- boosting(BAD ~ ., data = train_data, mfinal = 100,\n",
                "                        control = rpart.control(minsplit = 5, cp = -1, maxdepth = 4))\n",
                "final_pred <- predict(final_boost, test_data)\n",
                "final_cm <- table(Pred = final_pred$class, Obs = test_data$BAD)\n"
            ]
        },
        {
            "cell_type": "markdown",
            "metadata": {},
            "source": [
                "Let's compute the error:\n",
                "\n"
            ]
        },
        {
            "cell_type": "code",
            "execution_count": null,
            "metadata": {},
            "outputs": [],
            "source": [
                "test_error <- 1 - sum(diag(final_cm))/sum(final_cm)\n",
                "test_error\n"
            ]
        }
    ],
    "metadata": {
        "anaconda-cloud": "",
        "kernelspec": {
            "display_name": "R",
            "langauge": "R",
            "name": "ir"
        },
        "language_info": {
            "codemirror_mode": "r",
            "file_extension": ".r",
            "mimetype": "text/x-r-source",
            "name": "R",
            "pygments_lexer": "r",
            "version": "3.4.1"
        }
    },
    "nbformat": 4,
    "nbformat_minor": 1
}
