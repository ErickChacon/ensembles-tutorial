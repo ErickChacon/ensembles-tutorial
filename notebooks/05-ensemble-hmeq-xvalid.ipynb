{
    "cells": [
        {
            "cell_type": "markdown",
            "metadata": {},
            "source": [
                "# Boosting for Classifier Decision Trees\n",
                "\n",
                "## Goal\n",
                "\n",
                "In this tutorial, we will demonstrate the use of an ensemble method known as *boosting* for\n",
                "*classifier decision trees* using k-fold cross validation.\n",
                "\n",
                "## Load libraries and data\n",
                "\n",
                "First, we load the required libraries. We use:\n",
                "\n",
                "- `rpart` package because it contains implementations of decision trees;\n",
                "- `adabag` package because it has implemented the *boosting* algorithm; and\n",
                "- `caret` package to control trina-validation-test data.\n"
            ]
        },
        {
            "cell_type": "code",
            "execution_count": null,
            "metadata": {},
            "outputs": [],
            "source": [
                "library(rpart)\n",
                "library(adabag)\n",
                "library(caret)\n"
            ]
        },
        {
            "cell_type": "markdown",
            "metadata": {},
            "source": [
                "To load an `*.csv` file, simply use the function `read.csv()`. In addition, use `factor()`\n",
                "to convert our response variable of interest to `factor`.\n"
            ]
        },
        {
            "cell_type": "code",
            "execution_count": null,
            "metadata": {},
            "outputs": [],
            "source": [
                "hmeq <- read.csv(file.path(\"data\", \"hmeq.csv\"), header = TRUE)\n",
                "hmeq$BAD <- factor(hmeq$BAD)\n",
                "head(hmeq)\n"
            ]
        },
        {
            "cell_type": "markdown",
            "metadata": {},
            "source": [
                "## Create train-test split\n",
                "\n"
            ]
        },
        {
            "cell_type": "code",
            "execution_count": null,
            "metadata": {},
            "outputs": [],
            "source": [
                "set.seed(12345)\n",
                "train_idx <- createDataPartition(hmeq$BAD, p = 0.7, list = FALSE)\n",
                "train_data <- hmeq[train_idx, ]\n",
                "test_data  <- hmeq[-train_idx, ]\n"
            ]
        },
        {
            "cell_type": "markdown",
            "metadata": {},
            "source": "\n"
        },
        {
            "cell_type": "code",
            "execution_count": null,
            "metadata": {},
            "outputs": [],
            "source": [
                "head(train_data)\n",
                "\n"
            ]
        },
        {
            "cell_type": "markdown",
            "metadata": {},
            "source": "\n"
        },
        {
            "cell_type": "code",
            "execution_count": null,
            "metadata": {},
            "outputs": [],
            "source": [
                "head(test_data)\n",
                "\n"
            ]
        },
        {
            "cell_type": "markdown",
            "metadata": {},
            "source": [
                "## Perform cross-validation to compare models\n",
                "\n",
                "Let's split the train data into ten groups using `createFolds` from `caret` package:\n"
            ]
        },
        {
            "cell_type": "code",
            "execution_count": null,
            "metadata": {},
            "outputs": [],
            "source": [
                "\n",
                "\n"
            ]
        },
        {
            "cell_type": "markdown",
            "metadata": {},
            "source": [
                "Evaluate the performance of the models using 10-fold cross-validation:\n",
                "\n"
            ]
        },
        {
            "cell_type": "code",
            "execution_count": null,
            "metadata": {},
            "outputs": [],
            "source": [
                "\n",
                "\n"
            ]
        },
        {
            "cell_type": "markdown",
            "metadata": {},
            "source": [
                "Errors for the decision tree model:\n",
                "\n"
            ]
        },
        {
            "cell_type": "code",
            "execution_count": null,
            "metadata": {},
            "outputs": [],
            "source": [
                "\n",
                "\n"
            ]
        },
        {
            "cell_type": "markdown",
            "metadata": {},
            "source": [
                "Errors for boosting model:\n",
                "\n"
            ]
        },
        {
            "cell_type": "code",
            "execution_count": null,
            "metadata": {},
            "outputs": [],
            "source": [
                "\n",
                "\n"
            ]
        },
        {
            "cell_type": "markdown",
            "metadata": {},
            "source": [
                "Compare the mean error:\n",
                "\n"
            ]
        },
        {
            "cell_type": "code",
            "execution_count": null,
            "metadata": {},
            "outputs": [],
            "source": [
                "\n",
                "\n"
            ]
        },
        {
            "cell_type": "markdown",
            "metadata": {},
            "source": "\n"
        }
    ],
    "metadata": {
        "anaconda-cloud": "",
        "kernelspec": {
            "display_name": "R",
            "langauge": "R",
            "name": "ir"
        },
        "language_info": {
            "codemirror_mode": "r",
            "file_extension": ".r",
            "mimetype": "text/x-r-source",
            "name": "R",
            "pygments_lexer": "r",
            "version": "3.4.1"
        }
    },
    "nbformat": 4,
    "nbformat_minor": 1
}
