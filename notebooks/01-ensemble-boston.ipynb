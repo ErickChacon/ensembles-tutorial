{
    "cells": [
        {
            "cell_type": "markdown",
            "metadata": {},
            "source": [
                "# Bagging for Regression Trees\n",
                "\n"
            ]
        },
        {
            "cell_type": "code",
            "execution_count": null,
            "metadata": {},
            "outputs": [],
            "source": [
                "options(repr.plot.width = 15, repr.plot.height = 10)\n",
                "\n"
            ]
        },
        {
            "cell_type": "markdown",
            "metadata": {},
            "source": [
                "## Goal\n",
                "\n",
                "In this tutorial, we will demonstrate the use of an ensemble method known as *bagging* for\n",
                "*regression trees*. We will study the `Boston` dataset available in the `R` package `MASS`, which contains information on housing values in the suburbs of Boston with variables such as:\n",
                "\n",
                "* **medv**: median value of owner-occupied homes in \\$1000s (response variable);\n",
                "* **crim**: per capita crime rate by town;\n",
                "* **zn**: proportion of residential land zoned for lots over 25,000 sq. ft.;\n",
                "* **indus**: proportion of non-retail business acres per town;\n",
                "* **chas**: Charles River dummy variable (1 if tract bounds river; 0 otherwise);\n",
                "* **nox**: nitrogen oxides concentration (parts per 10 million);\n",
                "* **rm**: average number of rooms per dwelling;\n",
                "* **age**: proportion of owner-occupied units built before 1940;\n",
                "* **dis**: weighted distances to five Boston employment centers;\n",
                "* **rad**: index of accessibility to radial highways;\n",
                "* **tax**: full-value property tax rate per \\$10,000;\n",
                "* **ptratio**: pupil-teacher ratio by town;\n",
                "* **black**: 1000(Bk – 0.63)², where Bk is the proportion of Black residents by town; and\n",
                "* **lstat**: percentage of lower-status population.\n",
                "\n",
                "## Load libraries and data\n",
                "\n",
                "First, we load the required libraries. We use the `MASS` package because the `Boston`\n",
                "dataset is available there, and the `rpart` package because it contains implementations of\n",
                "decision trees.\n"
            ]
        },
        {
            "cell_type": "code",
            "execution_count": null,
            "metadata": {},
            "outputs": [],
            "source": [
                "library(MASS)\n",
                "library(rpart)\n",
                "library(ggplot2)\n",
                "theme_set(theme_gray(base_size = 18))\n"
            ]
        },
        {
            "cell_type": "markdown",
            "metadata": {},
            "source": [
                "To load an available dataset from a package, simply use the function `data`.\n",
                "\n"
            ]
        },
        {
            "cell_type": "code",
            "execution_count": null,
            "metadata": {},
            "outputs": [],
            "source": [
                "data(Boston)\n",
                "number_of_data_rows <- nrow(Boston)\n",
                "head(Boston)\n"
            ]
        },
        {
            "cell_type": "markdown",
            "metadata": {},
            "source": [
                "## Exploratory analysis\n",
                "\n",
                "We begin by obtaining summaries of the variables in the Boston dataset.\n"
            ]
        },
        {
            "cell_type": "code",
            "execution_count": null,
            "metadata": {},
            "outputs": [],
            "source": [
                "summary(Boston)\n",
                "\n"
            ]
        },
        {
            "cell_type": "markdown",
            "metadata": {},
            "source": [
                "We will analyze the median value of homes (`medv`):\n",
                "\n"
            ]
        },
        {
            "cell_type": "code",
            "execution_count": null,
            "metadata": {},
            "outputs": [],
            "source": [
                "ggplot(Boston) +\n",
                "    geom_histogram(aes(x = medv), bins = 20, color = \"black\", fill = \"lightblue\") +\n",
                "    labs(x = \"Median home value\", y = \"Frequency\")\n"
            ]
        },
        {
            "cell_type": "markdown",
            "metadata": {},
            "source": [
                "## Resampling the original dataset using bootstrap\n",
                "\n",
                "In order to apply bagging, we first create a list of resampled datasets.\n",
                "\n",
                "### Example of obtaining a bootstrapped dataset\n",
                "\n",
                "A bootstrapped dataset is simply obtained by sampling the original dataset with\n",
                "replacement. This can be done as follows:\n"
            ]
        },
        {
            "cell_type": "code",
            "execution_count": null,
            "metadata": {},
            "outputs": [],
            "source": [
                "shuffled_row_numbers <- sample(1:number_of_data_rows, number_of_data_rows, replace = TRUE)\n",
                "shuffled_row_numbers\n"
            ]
        },
        {
            "cell_type": "markdown",
            "metadata": {},
            "source": "\n"
        },
        {
            "cell_type": "code",
            "execution_count": null,
            "metadata": {},
            "outputs": [],
            "source": [
                "bootstrap_data <- Boston[shuffled_row_numbers, ]\n",
                "head(bootstrap_data)\n"
            ]
        },
        {
            "cell_type": "markdown",
            "metadata": {},
            "source": [
                "### Create a list of bootstrapped datasets\n",
                "\n",
                "Now, let's repeat the previous procedure 100 times to create resampled datasets. We set a\n",
                "seed with `set.seed()` to be able to reproduce the same list of resampled datasets:\n"
            ]
        },
        {
            "cell_type": "code",
            "execution_count": null,
            "metadata": {},
            "outputs": [],
            "source": [
                "set.seed(45632)\n",
                "bootstrap_list <- list()\n",
                "number_of_resamples <- 100\n",
                "\n",
                "for (i in 1:number_of_resamples) {\n",
                "    shuffled_row_numbers <- sample(1:number_of_data_rows, number_of_data_rows, replace=TRUE)\n",
                "    bootstrap_list[[i]] <- Boston[shuffled_row_numbers, ]\n",
                "}\n",
                "\n",
                "lapply(bootstrap_list[1:5], head)\n"
            ]
        },
        {
            "cell_type": "markdown",
            "metadata": {},
            "source": [
                "## Bagging implementation\n",
                "\n",
                "The idea of bagging is to fit a decision tree algorithm to each bootstrapped dataset.\n",
                "\n",
                "1. First, we recall how to fit a pruned regression tree, and\n",
                "2. then, we fit this model to each bootstrapped dataset.\n",
                "\n",
                "### Pruned regression trees\n",
                "\n",
                "To fit a pruned regression tree, we can use the `rpart` package as follows. First, let's\n",
                "fit a decision tree and take a look at the *complexity parameter table*:\n"
            ]
        },
        {
            "cell_type": "code",
            "execution_count": null,
            "metadata": {},
            "outputs": [],
            "source": [
                "set.seed(123)\n",
                "aux_fit <- rpart(medv ~ ., data = bootstrap_list[[1]])\n",
                "aux_fit$cptable\n"
            ]
        },
        {
            "cell_type": "markdown",
            "metadata": {},
            "source": [
                "* *CP*: the penalty for each split;\n",
                "* *nsplit*: the number of splits the tree has at that stage;\n",
                "* *rel error*: relative error compared to the null model;\n",
                "* *xerror*: cross-validated relative error (usually 10-fold CV); and\n",
                "* *xstd*: standard error for the cross-validated error.\n",
                "\n",
                "Identify the penalty with the lowest cross-validated error:\n"
            ]
        },
        {
            "cell_type": "code",
            "execution_count": null,
            "metadata": {},
            "outputs": [],
            "source": [
                "aux_id_lowest_error <- which.min(aux_fit$cptable[, \"xerror\"])\n",
                "aux_id_lowest_error\n"
            ]
        },
        {
            "cell_type": "markdown",
            "metadata": {},
            "source": [
                "Prune the tree using the *cp* value with the lowest cross-validated error:\n",
                "\n"
            ]
        },
        {
            "cell_type": "code",
            "execution_count": null,
            "metadata": {},
            "outputs": [],
            "source": [
                "aux_cp_lowest_error <- aux_fit$cptable[aux_id_lowest_error, \"CP\"]\n",
                "prune(aux_fit, cp = aux_cp_lowest_error)\n"
            ]
        },
        {
            "cell_type": "markdown",
            "metadata": {},
            "source": [
                "### Bagging for regression trees\n",
                "\n",
                "The following function automates the procedure of fitting and pruning a regression tree\n",
                "for the median value:\n"
            ]
        },
        {
            "cell_type": "code",
            "execution_count": null,
            "metadata": {},
            "outputs": [],
            "source": [
                "fitPrunedTree <- function(working_data) {\n",
                "    working_fit <- rpart(medv ~ ., data = working_data)\n",
                "    id_lowest_error <- which.min(working_fit$cptable[, \"xerror\"])\n",
                "    cp_with_lowest_error <- working_fit$cptable[id_lowest_error, \"CP\"]\n",
                "    prune(working_fit, cp = cp_with_lowest_error)\n",
                "}\n"
            ]
        },
        {
            "cell_type": "markdown",
            "metadata": {},
            "source": [
                "Now we can apply this procedure to all bootstrapped datasets:\n",
                "\n"
            ]
        },
        {
            "cell_type": "code",
            "execution_count": null,
            "metadata": {},
            "outputs": [],
            "source": [
                "pruned_tree_list <- lapply(bootstrap_list, fitPrunedTree)\n",
                "pruned_tree_list[1:5]\n"
            ]
        },
        {
            "cell_type": "markdown",
            "metadata": {},
            "source": [
                "## Prediction\n",
                "\n",
                "In the following code, we show how to perform predictions using all the fitted decision\n",
                "trees for the bootstrapped datasets.\n",
                "\n",
                "### Prepare the profile of interest\n",
                "\n",
                "We perform the prediction for the first row.\n"
            ]
        },
        {
            "cell_type": "code",
            "execution_count": null,
            "metadata": {},
            "outputs": [],
            "source": [
                "first_row <- Boston[1, ]\n",
                "sprintf(\"Real median value: %d\", first_row$medv)\n",
                "first_row_without_median_value <- subset(first_row, select = -medv)\n",
                "first_row_without_median_value\n"
            ]
        },
        {
            "cell_type": "markdown",
            "metadata": {},
            "source": [
                "### Perform prediction\n",
                "\n",
                "Predictions are made using each fitted regression tree:\n"
            ]
        },
        {
            "cell_type": "code",
            "execution_count": null,
            "metadata": {},
            "outputs": [],
            "source": [
                "predictWithModel <- function(pruned_tree) {\n",
                "    predict(pruned_tree, newdata = first_row_without_median_value)\n",
                "}\n",
                "predictions <- lapply(pruned_tree_list, predictWithModel)\n",
                "predicted_values <- unlist(predictions)\n"
            ]
        },
        {
            "cell_type": "markdown",
            "metadata": {},
            "source": [
                "Our best estimate is:\n",
                "\n"
            ]
        },
        {
            "cell_type": "code",
            "execution_count": null,
            "metadata": {},
            "outputs": [],
            "source": [
                "sprintf(\"Predicted median value: %.*f\", 2, mean(predicted_values))\n",
                "\n"
            ]
        },
        {
            "cell_type": "markdown",
            "metadata": {},
            "source": [
                "Let's visualize the distribution of predictions and our best estimate:\n",
                "\n"
            ]
        },
        {
            "cell_type": "code",
            "execution_count": null,
            "metadata": {},
            "outputs": [],
            "source": [
                "ggplot(data.frame(medv = predicted_values)) +\n",
                "    geom_histogram(aes(x = medv), bins = 20, color = \"black\", fill = \"lightblue\") +\n",
                "    geom_vline(aes(xintercept = medv, color = \"Observed value\"),\n",
                "               data.frame(medv = first_row$medv), linetype = 1, linewidth = 0.8) +\n",
                "    geom_vline(aes(xintercept = medv, color = \"Predicted mean value\"),\n",
                "               data.frame(medv = mean(predicted_values)), linetype = 2, linewidth = 0.8) +\n",
                "    labs(x = \"Median home value\", y = \"Frequency\", color = \"\")\n"
            ]
        }
    ],
    "metadata": {
        "anaconda-cloud": "",
        "kernelspec": {
            "display_name": "R",
            "langauge": "R",
            "name": "ir"
        },
        "language_info": {
            "codemirror_mode": "r",
            "file_extension": ".r",
            "mimetype": "text/x-r-source",
            "name": "R",
            "pygments_lexer": "r",
            "version": "3.4.1"
        }
    },
    "nbformat": 4,
    "nbformat_minor": 1
}
